{
 "cells": [
  {
   "cell_type": "markdown",
   "metadata": {},
   "source": [
    "# 两层全连接神经网络\n",
    "- 输入1000个节点，隐藏层100个，输出10个\n",
    "- 只考虑W不考虑b\n",
    "- 全连接ReLU神经网络\n",
    "\n",
    "---\n",
    "\n",
    "- $h = W_1X$\n",
    "- $h_{relu} = max(0, h)$\n",
    "- $y_{pred} = W_2h_{relu}$\n",
    "- $f = || y - y_{pred} ||^2_F$\n",
    "\n",
    "---\n",
    "- $\\frac{\\partial f}{\\partial y_{pred}} = 2(y_{pred} - y)$\n",
    "- $\\frac{\\partial f}{\\partial h_{relu}} = \\frac{\\partial f}{\\partial y_{pred}}W_2^T$\n",
    "- $\\frac{\\partial f}{\\partial W_2} = h_{relu}^T \\frac{\\partial f}{\\partial y_{pred}}$\n",
    "- $\\frac{\\partial f}{\\partial h} = \\frac{\\partial f}{\\partial h_{relu}} \\odot \\sigma(h)$\n",
    "- $\\frac{\\partial f}{\\partial x} = x^T\\frac{\\partial f}{\\partial h}$"
   ]
  },
  {
   "cell_type": "code",
   "execution_count": 1,
   "metadata": {},
   "outputs": [],
   "source": [
    "import numpy as np\n",
    "import torch\n",
    "import matplotlib.pyplot as plt"
   ]
  },
  {
   "cell_type": "code",
   "execution_count": 2,
   "metadata": {},
   "outputs": [],
   "source": [
    "BATCH = 64\n",
    "EPOCH = 500\n",
    "N_in, N_hidden, N_out = 1000, 100, 10\n",
    "LR = 1e-6"
   ]
  },
  {
   "cell_type": "markdown",
   "metadata": {},
   "source": [
    "## 一. Numpy手动计算梯度"
   ]
  },
  {
   "cell_type": "code",
   "execution_count": 7,
   "metadata": {},
   "outputs": [
    {
     "name": "stdout",
     "output_type": "stream",
     "text": [
      "Epoch 0: Loss 35408475.5708653\n",
      "Epoch 50: Loss 13210.723218441559\n",
      "Epoch 100: Loss 424.07916714308783\n",
      "Epoch 150: Loss 24.458366132394872\n",
      "Epoch 200: Loss 1.7288604054217553\n",
      "Epoch 250: Loss 0.13823869620770285\n",
      "Epoch 300: Loss 0.012206723331863328\n",
      "Epoch 350: Loss 0.0011717242860535743\n",
      "Epoch 400: Loss 0.0001203650115225353\n",
      "Epoch 450: Loss 1.3028675705281583e-05\n"
     ]
    }
   ],
   "source": [
    "x = np.random.randn(BATCH, N_in)\n",
    "y = np.random.randn(BATCH, N_out)\n",
    "\n",
    "w1 = np.random.randn(N_in, N_hidden)\n",
    "w2 = np.random.randn(N_hidden, N_out)\n",
    "\n",
    "for it in range(EPOCH):\n",
    "    # forward pass\n",
    "    h = x.dot(w1)\n",
    "    h_relu = np.maximum(h, 0)\n",
    "    y_pred = h_relu.dot(w2)\n",
    "\n",
    "    # compute loss\n",
    "    loss = np.square(y_pred - y).sum()\n",
    "    if it % 50 == 0: print(\"Epoch {}: Loss {}\".format(it, loss))\n",
    "\n",
    "    # backward pass\n",
    "    grad_y_pred = 2 * (y_pred - y)\n",
    "    grad_w2 = h_relu.T.dot(grad_y_pred)\n",
    "    grad_h_relu = grad_y_pred.dot(w2.T)\n",
    "    grad_h = grad_h_relu.copy()\n",
    "    grad_h[h < 0] = 0\n",
    "    grad_w1 = x.T.dot(grad_h)\n",
    "\n",
    "    # update weights\n",
    "    w1 -= LR * grad_w1\n",
    "    w2 -= LR * grad_w2"
   ]
  },
  {
   "cell_type": "markdown",
   "metadata": {},
   "source": [
    "## 二. Torch手动计算梯度"
   ]
  },
  {
   "cell_type": "code",
   "execution_count": 12,
   "metadata": {},
   "outputs": [
    {
     "name": "stdout",
     "output_type": "stream",
     "text": [
      "Epoch 0: Loss 26807970.0\n",
      "Epoch 50: Loss 10895.0634765625\n",
      "Epoch 100: Loss 404.9765930175781\n",
      "Epoch 150: Loss 27.17841339111328\n",
      "Epoch 200: Loss 2.4550464153289795\n",
      "Epoch 250: Loss 0.2618061602115631\n",
      "Epoch 300: Loss 0.030567120760679245\n",
      "Epoch 350: Loss 0.003984278533607721\n",
      "Epoch 400: Loss 0.0007121993694454432\n",
      "Epoch 450: Loss 0.00019911790150217712\n"
     ]
    }
   ],
   "source": [
    "x = torch.randn(BATCH, N_in)\n",
    "y = torch.randn(BATCH, N_out)\n",
    "\n",
    "w1 = torch.randn(N_in, N_hidden)\n",
    "w2 = torch.randn(N_hidden, N_out)\n",
    "\n",
    "for it in range(EPOCH):\n",
    "    h = x.mm(w1)\n",
    "    h_relu = h.clamp(min=0)\n",
    "    y_pred = h_relu.mm(w2)\n",
    "\n",
    "    loss = (y_pred - y).pow(2).sum()\n",
    "    if it % 50 == 0: print(\"Epoch {}: Loss {}\".format(it, loss))\n",
    "\n",
    "    grad_y_pred = 2*(y_pred - y)\n",
    "    grad_w2 = h_relu.t().mm(grad_y_pred)\n",
    "    grad_h_relu = grad_y_pred.mm(w2.t())\n",
    "    grad_h = grad_h_relu.clone()\n",
    "    grad_h[h<0] = 0\n",
    "    grad_w1 = x.t().mm(grad_h)\n",
    "\n",
    "    w1 -= LR * grad_w1\n",
    "    w2 -= LR * grad_w2"
   ]
  },
  {
   "cell_type": "markdown",
   "metadata": {},
   "source": [
    "## 三. PyTorch + Autograd"
   ]
  },
  {
   "cell_type": "code",
   "execution_count": 14,
   "metadata": {},
   "outputs": [
    {
     "name": "stdout",
     "output_type": "stream",
     "text": [
      "Epoch 0: Loss 32670436.0\n",
      "Epoch 50: Loss 20055.0078125\n",
      "Epoch 100: Loss 1657.7003173828125\n",
      "Epoch 150: Loss 257.3371887207031\n",
      "Epoch 200: Loss 46.99903869628906\n",
      "Epoch 250: Loss 9.062090873718262\n",
      "Epoch 300: Loss 1.7900952100753784\n",
      "Epoch 350: Loss 0.35835203528404236\n",
      "Epoch 400: Loss 0.07240660488605499\n",
      "Epoch 450: Loss 0.014984498731791973\n"
     ]
    }
   ],
   "source": [
    "x = torch.randn(BATCH, N_in)\n",
    "y = torch.randn(BATCH, N_out)\n",
    "\n",
    "w1 = torch.randn(N_in, N_hidden, requires_grad=True)\n",
    "w2 = torch.randn(N_hidden, N_out, requires_grad=True)\n",
    "\n",
    "for it in range(EPOCH):\n",
    "    y_pred = x.mm(w1).clamp(min=0).mm(w2)\n",
    "\n",
    "    loss = (y_pred - y).pow(2).sum()\n",
    "    if it % 50 == 0: print(\"Epoch {}: Loss {}\".format(it, loss))\n",
    "\n",
    "    loss.backward()\n",
    "\n",
    "    with torch.no_grad():\n",
    "        w1 -= LR * w1.grad\n",
    "        w2 -= LR * w2.grad\n",
    "        w1.grad.zero_()\n",
    "        w2.grad.zero_()"
   ]
  },
  {
   "cell_type": "markdown",
   "metadata": {},
   "source": [
    "# 四. PyTorch + Optim"
   ]
  },
  {
   "cell_type": "code",
   "execution_count": 17,
   "metadata": {},
   "outputs": [
    {
     "name": "stdout",
     "output_type": "stream",
     "text": [
      "Epoch 0: Loss 34224736.0\n",
      "Epoch 50: Loss 13434.0263671875\n",
      "Epoch 100: Loss 644.0214233398438\n",
      "Epoch 150: Loss 51.45646286010742\n",
      "Epoch 200: Loss 5.0250163078308105\n",
      "Epoch 250: Loss 0.5542936325073242\n",
      "Epoch 300: Loss 0.0669383704662323\n",
      "Epoch 350: Loss 0.008839967660605907\n",
      "Epoch 400: Loss 0.0014848707942292094\n",
      "Epoch 450: Loss 0.00039268750697374344\n"
     ]
    }
   ],
   "source": [
    "x = torch.randn(BATCH, N_in)\n",
    "y = torch.randn(BATCH, N_out)\n",
    "\n",
    "w1 = torch.randn(N_in, N_hidden, requires_grad=True)\n",
    "w2 = torch.randn(N_hidden, N_out, requires_grad=True)\n",
    "\n",
    "optimizer = torch.optim.SGD([w1, w2], lr=LR)\n",
    "\n",
    "for it in range(EPOCH):\n",
    "    y_pred = x.mm(w1).clamp(min=0).mm(w2)\n",
    "\n",
    "    loss = (y_pred - y).pow(2).sum()\n",
    "    if it % 50 == 0: print(\"Epoch {}: Loss {}\".format(it, loss))\n",
    "\n",
    "    loss.backward()\n",
    "    optimizer.step()\n",
    "    optimizer.zero_grad()"
   ]
  },
  {
   "cell_type": "markdown",
   "metadata": {},
   "source": [
    "# 五. PyTorch + Loss"
   ]
  },
  {
   "cell_type": "code",
   "execution_count": 18,
   "metadata": {},
   "outputs": [
    {
     "name": "stdout",
     "output_type": "stream",
     "text": [
      "Epoch 0: Loss 30201670.0\n",
      "Epoch 50: Loss 19577.216796875\n",
      "Epoch 100: Loss 1194.46875\n",
      "Epoch 150: Loss 116.95330810546875\n",
      "Epoch 200: Loss 14.979321479797363\n",
      "Epoch 250: Loss 2.248992443084717\n",
      "Epoch 300: Loss 0.367341548204422\n",
      "Epoch 350: Loss 0.06274251639842987\n",
      "Epoch 400: Loss 0.011243206448853016\n",
      "Epoch 450: Loss 0.0023114148061722517\n"
     ]
    }
   ],
   "source": [
    "x = torch.randn(BATCH, N_in)\n",
    "y = torch.randn(BATCH, N_out)\n",
    "\n",
    "w1 = torch.randn(N_in, N_hidden, requires_grad=True)\n",
    "w2 = torch.randn(N_hidden, N_out, requires_grad=True)\n",
    "\n",
    "optimizer = torch.optim.SGD([w1, w2], lr=LR)\n",
    "loss_func = torch.nn.MSELoss(reduction='sum')\n",
    "\n",
    "for it in range(EPOCH):\n",
    "    y_pred = x.mm(w1).clamp(min=0).mm(w2)\n",
    "\n",
    "    loss = loss_func(y_pred, y)\n",
    "    if it % 50 == 0: print(\"Epoch {}: Loss {}\".format(it, loss))\n",
    "\n",
    "    loss.backward()\n",
    "    optimizer.step()\n",
    "    optimizer.zero_grad()"
   ]
  },
  {
   "cell_type": "code",
   "execution_count": null,
   "metadata": {},
   "outputs": [],
   "source": []
  }
 ],
 "metadata": {
  "interpreter": {
   "hash": "a3b0ff572e5cd24ec265c5b4da969dd40707626c6e113422fd84bd2b9440fcfc"
  },
  "kernelspec": {
   "display_name": "Python 3.9.7 64-bit ('deep_learning': conda)",
   "name": "python3"
  },
  "language_info": {
   "codemirror_mode": {
    "name": "ipython",
    "version": 3
   },
   "file_extension": ".py",
   "mimetype": "text/x-python",
   "name": "python",
   "nbconvert_exporter": "python",
   "pygments_lexer": "ipython3",
   "version": "3.9.7"
  },
  "orig_nbformat": 4
 },
 "nbformat": 4,
 "nbformat_minor": 2
}
