{
 "cells": [
  {
   "cell_type": "markdown",
   "metadata": {},
   "source": [
    "- 输入1000个节点，隐藏层100个，输出10个\n",
    "- 只考虑W不考虑b\n",
    "- 全连接ReLU神经网络\n",
    "\n",
    "---\n",
    "\n",
    "- $h = W_1X$\n",
    "- $h_{relu} = max(0, h)$\n",
    "- $y_{pred} = W_2h_{relu}$\n",
    "- $f = || y - y_{pred} ||^2_F$"
   ]
  },
  {
   "cell_type": "code",
   "execution_count": 1,
   "metadata": {},
   "outputs": [],
   "source": [
    "import numpy as np\n",
    "import torch\n",
    "import matplotlib.pyplot as plt"
   ]
  },
  {
   "cell_type": "code",
   "execution_count": 2,
   "metadata": {},
   "outputs": [],
   "source": [
    "BATCH = 64\n",
    "EPOCH = 500\n",
    "N_in, N_hidden, N_out = 1000, 100, 10\n",
    "LR = 1e-6"
   ]
  },
  {
   "cell_type": "markdown",
   "metadata": {},
   "source": [
    "## 一. Numpy手动计算梯度"
   ]
  },
  {
   "cell_type": "code",
   "execution_count": 6,
   "metadata": {},
   "outputs": [
    {
     "name": "stdout",
     "output_type": "stream",
     "text": [
      "Epoch 0: Loss 34747225.299290314\n",
      "Epoch 50: Loss nan\n",
      "Epoch 100: Loss nan\n",
      "Epoch 150: Loss nan\n",
      "Epoch 200: Loss nan\n",
      "Epoch 250: Loss nan\n",
      "Epoch 300: Loss nan\n",
      "Epoch 350: Loss nan\n",
      "Epoch 400: Loss nan\n",
      "Epoch 450: Loss nan\n"
     ]
    }
   ],
   "source": [
    "x = np.random.randn(BATCH, N_in)\n",
    "y = np.random.randn(BATCH, N_out)\n",
    "\n",
    "w1 = np.random.randn(N_in, N_hidden)\n",
    "w2 = np.random.randn(N_hidden, N_out)\n",
    "\n",
    "for it in range(EPOCH):\n",
    "    h = x.dot(w1)\n",
    "    h_relu = np.maximum(h, 0)\n",
    "    y_pred = h_relu.dot(w2)\n",
    "\n",
    "    loss = np.square(y_pred, y).sum()\n",
    "    if it % 50 == 0:\n",
    "        print(\"Epoch {}: Loss {}\".format(it, loss))\n",
    "\n",
    "    grad_y_pred = 2 * (y_pred - y)\n",
    "    grad_w2 = h_relu.T.dot(grad_y_pred)\n",
    "    grad_h_relu = grad_y_pred.dot(w2.T)\n",
    "    grad_h = grad_h_relu.copy()\n",
    "    grad_h[h < 0] = 0\n",
    "    grad_w1 = x.T.dot(grad_h)\n",
    "\n",
    "    w1 -= LR * grad_w1\n",
    "    w2 -= LR * grad_w2"
   ]
  },
  {
   "cell_type": "code",
   "execution_count": null,
   "metadata": {},
   "outputs": [],
   "source": []
  }
 ],
 "metadata": {
  "interpreter": {
   "hash": "a3b0ff572e5cd24ec265c5b4da969dd40707626c6e113422fd84bd2b9440fcfc"
  },
  "kernelspec": {
   "display_name": "Python 3.9.7 64-bit ('deep_learning': conda)",
   "name": "python3"
  },
  "language_info": {
   "codemirror_mode": {
    "name": "ipython",
    "version": 3
   },
   "file_extension": ".py",
   "mimetype": "text/x-python",
   "name": "python",
   "nbconvert_exporter": "python",
   "pygments_lexer": "ipython3",
   "version": "3.9.7"
  },
  "orig_nbformat": 4
 },
 "nbformat": 4,
 "nbformat_minor": 2
}
