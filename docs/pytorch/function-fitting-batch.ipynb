{
 "cells": [
  {
   "cell_type": "code",
   "execution_count": 1,
   "metadata": {},
   "outputs": [],
   "source": [
    "import numpy as np\n",
    "import torch\n",
    "from torch.autograd import Variable\n",
    "import torch.utils.data as Data\n",
    "import matplotlib.pyplot as plt\n",
    "from IPython import display\n",
    "from tqdm.auto import tqdm"
   ]
  },
  {
   "cell_type": "code",
   "execution_count": 2,
   "metadata": {},
   "outputs": [],
   "source": [
    "LR = 0.05\n",
    "BATCH_SIZE = 25\n",
    "EPOCHES = 1000"
   ]
  },
  {
   "cell_type": "code",
   "execution_count": 3,
   "metadata": {},
   "outputs": [
    {
     "data": {
      "text/plain": [
       "<matplotlib.collections.PathCollection at 0x7fdd774b9400>"
      ]
     },
     "execution_count": 3,
     "metadata": {},
     "output_type": "execute_result"
    },
    {
     "data": {
      "image/png": "[encoded data removed]",
      "text/plain": [
       "<Figure size 432x288 with 1 Axes>"
      ]
     },
     "metadata": {
      "needs_background": "light"
     },
     "output_type": "display_data"
    }
   ],
   "source": [
    "x = torch.linspace(1, 100, 100)\n",
    "x = torch.unsqueeze(x, dim=1)\n",
    "y = torch.sqrt(x) + 0.2 * torch.rand_like(x)\n",
    "\n",
    "dataset = Data.TensorDataset(x, y)\n",
    "loader = Data.DataLoader(dataset=dataset, batch_size=BATCH_SIZE, shuffle=False, num_workers=2)\n",
    "\n",
    "plt.scatter(x, y)"
   ]
  },
  {
   "cell_type": "code",
   "execution_count": 4,
   "metadata": {},
   "outputs": [],
   "source": [
    "class Net(torch.nn.Module):\n",
    "    def __init__(self):\n",
    "        super(Net, self).__init__()\n",
    "        self.net = torch.nn.Sequential(\n",
    "            torch.nn.Linear(1, 50),\n",
    "            torch.nn.ReLU(),\n",
    "\n",
    "            torch.nn.Linear(50, 100),\n",
    "            torch.nn.ReLU(),\n",
    "\n",
    "            torch.nn.Linear(100, 1)\n",
    "        )\n",
    "\n",
    "        self.criterion = torch.nn.L1Loss()\n",
    "        self.opt = torch.optim.Adam(self.parameters(), lr=LR)\n",
    "\n",
    "    def forward(self, x):\n",
    "        return self.net(x)\n",
    "\n",
    "model = Net()\n",
    "# print(model)"
   ]
  },
  {
   "cell_type": "code",
   "execution_count": 5,
   "metadata": {},
   "outputs": [],
   "source": [
    "train_loss = []\n",
    "train_loss_record = []\n",
    "\n",
    "for epoch in range(EPOCHES):\n",
    "    train_loss = []\n",
    "    for step, (batch_x, batch_y) in enumerate(loader):      # tqdm(enumerate(loader))\n",
    "        batch_predict = model(batch_x)\n",
    "        loss = model.criterion(batch_predict, batch_y)\n",
    "\n",
    "        model.opt.zero_grad()\n",
    "        loss.backward()\n",
    "        model.opt.step()\n",
    "\n",
    "        train_loss.append(loss)\n",
    "\n",
    "    train_loss = sum(train_loss) / len(train_loss)\n",
    "    train_loss_record.append(loss.item())"
   ]
  },
  {
   "cell_type": "code",
   "execution_count": null,
   "metadata": {},
   "outputs": [],
   "source": [
    "x = np.arange(len(train_loss_record))\n",
    "plt.plot(x, train_loss_record)\n",
    "# plt.ylim([0, 2])\n",
    "plt.title(\"Loss\")\n",
    "plt.show()"
   ]
  },
  {
   "cell_type": "code",
   "execution_count": null,
   "metadata": {},
   "outputs": [],
   "source": [
    "x = torch.linspace(1, 100, 100)\n",
    "x = torch.unsqueeze(x, dim=1)\n",
    "y = torch.sqrt(x) + 0.2 * torch.rand_like(x)\n",
    "\n",
    "x, y = Variable(x), Variable(y)\n",
    "\n",
    "predict = model(x)\n",
    "plt.scatter(x.data.numpy(), y.data.numpy())\n",
    "plt.plot(x.data.numpy(), predict.data.numpy(), 'r-')\n",
    "plt.show()"
   ]
  }
 ],
 "metadata": {
  "language_info": {
   "name": "python"
  },
  "orig_nbformat": 4
 },
 "nbformat": 4,
 "nbformat_minor": 2
}
