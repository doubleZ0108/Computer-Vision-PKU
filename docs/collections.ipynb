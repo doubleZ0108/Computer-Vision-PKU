{
 "cells": [
  {
   "cell_type": "markdown",
   "metadata": {},
   "source": [
    "# collection容器库"
   ]
  },
  {
   "cell_type": "code",
   "execution_count": 113,
   "metadata": {},
   "outputs": [],
   "source": [
    "import collections\n",
    "from collections import Counter, deque, defaultdict, OrderedDict, namedtuple, ChainMap"
   ]
  },
  {
   "cell_type": "code",
   "execution_count": 114,
   "metadata": {},
   "outputs": [
    {
     "name": "stdout",
     "output_type": "stream",
     "text": [
      "['deque', 'defaultdict', 'namedtuple', 'UserDict', 'UserList', 'UserString', 'Counter', 'OrderedDict', 'ChainMap', 'Awaitable', 'Coroutine', 'AsyncIterable', 'AsyncIterator', 'AsyncGenerator', 'Hashable', 'Iterable', 'Iterator', 'Generator', 'Reversible', 'Sized', 'Container', 'Callable', 'Collection', 'Set', 'MutableSet', 'Mapping', 'MutableMapping', 'MappingView', 'KeysView', 'ItemsView', 'ValuesView', 'Sequence', 'MutableSequence', 'ByteString']\n"
     ]
    }
   ],
   "source": [
    "print(collections.__all__)"
   ]
  },
  {
   "cell_type": "markdown",
   "metadata": {},
   "source": [
    "## Counter\n",
    "\n",
    "- 基础用法跟正常的dict()是一样的\n",
    "    - `elements()`, `items()`\n",
    "- `most_common(n)`：出现次数最多的n个\n",
    "- 可以对两个Counter对象`+` `-` `&` `|`"
   ]
  },
  {
   "cell_type": "code",
   "execution_count": 115,
   "metadata": {},
   "outputs": [
    {
     "data": {
      "text/plain": [
       "Counter({'red': 2, 'blue': 3, 'green': 1})"
      ]
     },
     "execution_count": 115,
     "metadata": {},
     "output_type": "execute_result"
    }
   ],
   "source": [
    "colors = ['red', 'blue', 'red', 'green', 'blue', 'blue']\n",
    "c = Counter(colors)\n",
    "\n",
    "d = {'red': 2, 'blue': 3, 'green': 1}\n",
    "c = Counter(d)\n",
    "c"
   ]
  },
  {
   "cell_type": "code",
   "execution_count": 116,
   "metadata": {},
   "outputs": [
    {
     "name": "stdout",
     "output_type": "stream",
     "text": [
      "['red', 'red', 'blue', 'blue', 'blue', 'green']\n",
      "red 2\n",
      "blue 3\n",
      "green 1\n"
     ]
    }
   ],
   "source": [
    "print(list(c.elements()))\n",
    "for key, val in c.items():\n",
    "    print(key, val)"
   ]
  },
  {
   "cell_type": "code",
   "execution_count": 117,
   "metadata": {},
   "outputs": [
    {
     "data": {
      "text/plain": [
       "[('blue', 3), ('red', 2)]"
      ]
     },
     "execution_count": 117,
     "metadata": {},
     "output_type": "execute_result"
    }
   ],
   "source": [
    "# 相同计数的按照首次出现的顺序排序\n",
    "c.most_common(2)"
   ]
  },
  {
   "cell_type": "code",
   "execution_count": 118,
   "metadata": {},
   "outputs": [
    {
     "data": {
      "text/plain": [
       "Counter({'red': 1, 'blue': 2, 'green': 1})"
      ]
     },
     "execution_count": 118,
     "metadata": {},
     "output_type": "execute_result"
    }
   ],
   "source": [
    "c.subtract(['red', 'blue'])\n",
    "c"
   ]
  },
  {
   "cell_type": "code",
   "execution_count": 119,
   "metadata": {},
   "outputs": [
    {
     "name": "stdout",
     "output_type": "stream",
     "text": [
      "Counter({'blue': 4, 'red': 2, 'green': 2})\n",
      "Counter({'blue': 2})\n",
      "Counter({'red': 4, 'blue': 2, 'green': 1})\n"
     ]
    }
   ],
   "source": [
    "print(c + c)         # add\n",
    "print(c & Counter(blue=3))  # intersection\n",
    "print(c | Counter(red=4))  # union"
   ]
  },
  {
   "cell_type": "markdown",
   "metadata": {},
   "source": [
    "## deque\n",
    "\n",
    "- `count()`\n",
    "- `clear()`\n",
    "- `append()`, `appendleft()`\n",
    "- `extend()`, `extendleft()`：添加iterable中的元素\n",
    "- `index()`：返回第一次匹配的位置\n",
    "- `insert(pos, val)`：在pos位置插入元素\n",
    "- `pop()`, `popleft()`\n",
    "- `remove(val)`：移除deque里第一个匹配的val值\n",
    "- `rotate(x)`：向右循环x步，等价于`d.appendleft(d.pop())`"
   ]
  },
  {
   "cell_type": "code",
   "execution_count": 120,
   "metadata": {},
   "outputs": [
    {
     "name": "stdout",
     "output_type": "stream",
     "text": [
      "deque([1, 2, 3])\n",
      "deque([1, 2, 3, 4])\n",
      "deque([0, 1, 2, 3, 4])\n"
     ]
    }
   ],
   "source": [
    "d = deque([1,2,3])\n",
    "print(d)\n",
    "\n",
    "d.append(4)\n",
    "print(d)\n",
    "\n",
    "d.appendleft(0)\n",
    "print(d)"
   ]
  },
  {
   "cell_type": "code",
   "execution_count": 121,
   "metadata": {},
   "outputs": [
    {
     "name": "stdout",
     "output_type": "stream",
     "text": [
      "deque([0, 1, 2, 3, 4, 7, 8, 9])\n",
      "deque([-3, -2, -1, 0, 1, 2, 3, 4, 7, 8, 9])\n"
     ]
    }
   ],
   "source": [
    "d.extend([7,8,9])\n",
    "print(d)\n",
    "\n",
    "d.extendleft([-1,-2,-3])    # 注意在左面添加会反过来的\n",
    "print(d)"
   ]
  },
  {
   "cell_type": "code",
   "execution_count": 122,
   "metadata": {},
   "outputs": [
    {
     "name": "stdout",
     "output_type": "stream",
     "text": [
      "3\n",
      "deque([-3, 'a', -2, -1, 0, 1, 2, 3, 4, 7, 8, 9])\n"
     ]
    }
   ],
   "source": [
    "print(d.index(0))\n",
    "\n",
    "d.insert(1, 'a')\n",
    "print(d)"
   ]
  },
  {
   "cell_type": "code",
   "execution_count": 123,
   "metadata": {},
   "outputs": [
    {
     "name": "stdout",
     "output_type": "stream",
     "text": [
      "deque([-3, -2, -1, 0, 1, 2, 3, 4, 7, 8, 9])\n"
     ]
    }
   ],
   "source": [
    "d.remove('a')\n",
    "print(d)"
   ]
  },
  {
   "cell_type": "code",
   "execution_count": 124,
   "metadata": {},
   "outputs": [
    {
     "name": "stdout",
     "output_type": "stream",
     "text": [
      "deque([9, -3, -2, -1, 0, 1, 2, 3, 4, 7, 8])\n"
     ]
    }
   ],
   "source": [
    "d.rotate(1)\n",
    "print(d)"
   ]
  },
  {
   "cell_type": "markdown",
   "metadata": {},
   "source": [
    "## defaultdict\n",
    "\n",
    "主要用来解决默认dict值不存在时会报错（例如+1必须要特判）\n",
    "\n",
    "通过设定类型可指定默认值（例如list缺失值是`[]`，int缺失值是0）"
   ]
  },
  {
   "cell_type": "code",
   "execution_count": 125,
   "metadata": {},
   "outputs": [
    {
     "data": {
      "text/plain": [
       "dict_items([('yellow', [1, 3]), ('blue', [2, 4]), ('red', [1])])"
      ]
     },
     "execution_count": 125,
     "metadata": {},
     "output_type": "execute_result"
    }
   ],
   "source": [
    "# 将 键-值对 转换为 键-列表\n",
    "s  = [('yellow', 1), ('blue', 2), ('yellow', 3), ('blue', 4), ('red', 1)]\n",
    "\n",
    "d = defaultdict(list)\n",
    "for k, v in s:\n",
    "    d[k].append(v)\n",
    "\n",
    "d.items()"
   ]
  },
  {
   "cell_type": "code",
   "execution_count": 126,
   "metadata": {},
   "outputs": [
    {
     "data": {
      "text/plain": [
       "dict_items([('h', 1), ('e', 1), ('l', 3), ('o', 2), ('w', 1), ('r', 1), ('d', 1)])"
      ]
     },
     "execution_count": 126,
     "metadata": {},
     "output_type": "execute_result"
    }
   ],
   "source": [
    "# 计数\n",
    "s = \"helloworld\"\n",
    "d = defaultdict(int)\n",
    "for k in s:\n",
    "    d[k] += 1\n",
    "d.items()"
   ]
  },
  {
   "cell_type": "markdown",
   "metadata": {},
   "source": [
    "## OrderedDict\n",
    "\n",
    "因为是有序的字典，因此可以记住顺序\n",
    "\n",
    "- `popitem()`\n",
    "- `move_to_end()`"
   ]
  },
  {
   "cell_type": "code",
   "execution_count": 127,
   "metadata": {},
   "outputs": [
    {
     "name": "stdout",
     "output_type": "stream",
     "text": [
      "OrderedDict([('a', None), ('b', None)])\n",
      "OrderedDict([('b', None), ('a', None)])\n"
     ]
    }
   ],
   "source": [
    "od = OrderedDict.fromkeys('abc')\n",
    "\n",
    "od.popitem(last=True)\n",
    "print(od)\n",
    "\n",
    "od.move_to_end('a', last=True)\n",
    "print(od)"
   ]
  },
  {
   "cell_type": "markdown",
   "metadata": {},
   "source": [
    "## namedtyple\n",
    "\n",
    "允许自定义名字的tuple子类"
   ]
  },
  {
   "cell_type": "code",
   "execution_count": 128,
   "metadata": {},
   "outputs": [
    {
     "name": "stdout",
     "output_type": "stream",
     "text": [
      "3\n"
     ]
    },
    {
     "data": {
      "text/plain": [
       "OrderedDict([('x', 1), ('y', 2)])"
      ]
     },
     "execution_count": 128,
     "metadata": {},
     "output_type": "execute_result"
    }
   ],
   "source": [
    "Point = namedtuple('Point', ['x','y'])\n",
    "\n",
    "p = Point(x=1,y=2)\n",
    "print(p.x + p[1])\n",
    "\n",
    "p._asdict()"
   ]
  },
  {
   "cell_type": "markdown",
   "metadata": {},
   "source": [
    "## ChainMap\n",
    "\n",
    "把多个字典融合成一个\n",
    "\n",
    "当多个字典有重复的key时，按照链的顺序第一次查找的返回\n",
    "\n",
    "例如应用在：命令行参数、系统环境参数、默认参数 的优先级决策上\n"
   ]
  },
  {
   "cell_type": "code",
   "execution_count": 129,
   "metadata": {},
   "outputs": [
    {
     "name": "stdout",
     "output_type": "stream",
     "text": [
      "10\n"
     ]
    }
   ],
   "source": [
    "colors = {'red': 3, 'blue': 1}\n",
    "phones = {'iPhone': 10, 'Huawei': 5}\n",
    "langs = {'python': 2, 'js': 3}\n",
    "\n",
    "chainmap = ChainMap(colors, phones, langs)\n",
    "\n",
    "print(chainmap['iPhone'])"
   ]
  },
  {
   "cell_type": "code",
   "execution_count": 130,
   "metadata": {},
   "outputs": [
    {
     "name": "stdout",
     "output_type": "stream",
     "text": [
      "ChainMap({'red': 3, 'blue': 1}, {'iPhone': 10, 'Huawei': 5}, {'python': 2, 'js': 3, 'c': 10})\n"
     ]
    }
   ],
   "source": [
    "langs['c'] = 10\n",
    "print(chainmap)     # chainmap会自动更新"
   ]
  },
  {
   "cell_type": "code",
   "execution_count": 131,
   "metadata": {},
   "outputs": [
    {
     "name": "stdout",
     "output_type": "stream",
     "text": [
      "ChainMap({'red': 3}, {'iPhone': 10, 'Huawei': 5}, {'python': 2, 'js': 3, 'c': 10})\n",
      "{'red': 3}\n"
     ]
    }
   ],
   "source": [
    "chainmap.pop('blue')\n",
    "\n",
    "print(chainmap)\n",
    "print(colors)   # chainmap中删除，原字典也会同步删除"
   ]
  }
 ],
 "metadata": {
  "kernelspec": {
   "display_name": "Python 3.6.13 ('ourmvsnet')",
   "language": "python",
   "name": "python3"
  },
  "language_info": {
   "codemirror_mode": {
    "name": "ipython",
    "version": 3
   },
   "file_extension": ".py",
   "mimetype": "text/x-python",
   "name": "python",
   "nbconvert_exporter": "python",
   "pygments_lexer": "ipython3",
   "version": "3.6.13"
  },
  "orig_nbformat": 4,
  "vscode": {
   "interpreter": {
    "hash": "ce3435b4fd239f1f6f12780933ef58404daca4493791636b6dc56d0922f97ec9"
   }
  }
 },
 "nbformat": 4,
 "nbformat_minor": 2
}
