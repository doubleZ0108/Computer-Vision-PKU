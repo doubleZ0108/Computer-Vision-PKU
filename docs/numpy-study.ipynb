{
 "cells": [
  {
   "cell_type": "markdown",
   "source": [
    "# NumPy学习"
   ],
   "metadata": {}
  },
  {
   "cell_type": "markdown",
   "source": [
    "**Table of Content**\n",
    "* 属性\n",
    "* 创建\n",
    "    * 随机数\n",
    "* 运算\n",
    "    * 聚合函数\n",
    "* 索引\n",
    "* 数组操作\n",
    "* 拷贝\n",
    "\n",
    "[Numpy中文网](https://www.numpy.org.cn)\n",
    "\n",
    "采用C语言编写，采用矩阵运算，消耗资源少，比自带数据结构的运算款很多"
   ],
   "metadata": {}
  },
  {
   "cell_type": "markdown",
   "source": [
    "## 属性"
   ],
   "metadata": {}
  },
  {
   "cell_type": "code",
   "execution_count": 1,
   "source": [
    "import numpy as np"
   ],
   "outputs": [],
   "metadata": {}
  },
  {
   "cell_type": "code",
   "execution_count": 2,
   "source": [
    "array = np.array([[1,2,3],[4,5,6]])\n",
    "print(array)"
   ],
   "outputs": [
    {
     "output_type": "stream",
     "name": "stdout",
     "text": [
      "[[1 2 3]\n",
      " [4 5 6]]\n"
     ]
    }
   ],
   "metadata": {}
  },
  {
   "cell_type": "code",
   "execution_count": 3,
   "source": [
    "# 维度\n",
    "print(array.ndim)\n",
    "\n",
    "# 行列数\n",
    "print(array.shape)\n",
    "\n",
    "# 元素个数\n",
    "print(array.size)"
   ],
   "outputs": [
    {
     "output_type": "stream",
     "name": "stdout",
     "text": [
      "2\n",
      "(2, 3)\n",
      "6\n"
     ]
    }
   ],
   "metadata": {}
  },
  {
   "cell_type": "markdown",
   "source": [
    "## 创建"
   ],
   "metadata": {}
  },
  {
   "cell_type": "code",
   "execution_count": 8,
   "source": [
    "# 指定数据类型\n",
    "a = np.array([1, 2, 3], dtype=np.int32)\n",
    "b = np.array([1, 2, 3], dtype=np.float64)\n",
    "\n",
    "print(a)\n",
    "print(b)"
   ],
   "outputs": [
    {
     "output_type": "stream",
     "name": "stdout",
     "text": [
      "[1 2 3] [1. 2. 3.]\n",
      "[[0. 0. 0. 0.]\n",
      " [0. 0. 0. 0.]\n",
      " [0. 0. 0. 0.]]\n",
      "[[1 1 1]\n",
      " [1 1 1]]\n"
     ]
    }
   ],
   "metadata": {}
  },
  {
   "cell_type": "code",
   "execution_count": 9,
   "source": [
    "# 快速创建\n",
    "zero = np.zeros((3, 4))\n",
    "one = np.ones((2, 3), dtype=np.int32)\n",
    "empty = np.empty((2, 3))        # 接近零的数\n",
    "\n",
    "print(zero)\n",
    "print(one)\n",
    "print(empty)"
   ],
   "outputs": [
    {
     "output_type": "stream",
     "name": "stdout",
     "text": [
      "[[0. 0. 0. 0.]\n",
      " [0. 0. 0. 0.]\n",
      " [0. 0. 0. 0.]]\n",
      "[[1 1 1]\n",
      " [1 1 1]]\n",
      "[[5.e-324 5.e-324 5.e-324]\n",
      " [5.e-324 5.e-324 5.e-324]]\n"
     ]
    }
   ],
   "metadata": {}
  },
  {
   "cell_type": "code",
   "execution_count": 13,
   "source": [
    "# 连续数字\n",
    "arange = np.arange(1, 10, 2)        # 步长为2\n",
    "\n",
    "# 线段形数据\n",
    "linspace = np.linspace(1, 10, 8)   # 分割成8个点\n",
    "\n",
    "# 改变形状\n",
    "reshape = np.arange(20).reshape(4, 5)   # 参数为-1则会自动计算\n",
    "\n",
    "print(arange)\n",
    "print(linspace)\n",
    "print(reshape)"
   ],
   "outputs": [
    {
     "output_type": "stream",
     "name": "stdout",
     "text": [
      "[1 3 5 7 9]\n",
      "[ 1.          2.28571429  3.57142857  4.85714286  6.14285714  7.42857143\n",
      "  8.71428571 10.        ]\n",
      "[[ 0  1  2  3  4]\n",
      " [ 5  6  7  8  9]\n",
      " [10 11 12 13 14]\n",
      " [15 16 17 18 19]]\n"
     ]
    }
   ],
   "metadata": {}
  },
  {
   "cell_type": "markdown",
   "source": [
    "### 随机数"
   ],
   "metadata": {}
  },
  {
   "cell_type": "code",
   "execution_count": 131,
   "source": [
    "# 0~1间的浮点数\n",
    "r = np.random.rand(2, 3)\n",
    "print(\"rand: \", r)\n",
    "\n",
    "# 0～1间均匀取样随机数\n",
    "r = np.random.random((2, 4))\n",
    "print(\"random: \", r)\n",
    "\n",
    "# [0, 10)间的随机整数\n",
    "r = np.random.randint(10)\n",
    "print(\"randint: \", r)\n",
    "\n",
    "# 基于给定值生成随机数\n",
    "r = np.random.choice([3, 5, 7, 9], size=(2, 3))\n",
    "print(\"choice: \", r)\n",
    "\n",
    "# 均匀分布随机数 [low, high)\n",
    "r = np.random.uniform(1, 10, (3, 2))\n",
    "print(\"uniform: \", r)\n",
    "\n",
    "# 标准正态分布 均值0 方差1\n",
    "r = np.random.randn(3, 2)\n",
    "print(\"randn: \", r)\n",
    "\n",
    "# 正态分布 均值10 方差1\n",
    "r = np.random.normal(10, 1, (3, 2))\n",
    "print(\"normal: \", r)"
   ],
   "outputs": [
    {
     "output_type": "stream",
     "name": "stdout",
     "text": [
      "rand:  [[0.44155749 0.44601869 0.05318859]\n",
      " [0.28594465 0.72112534 0.91809614]]\n",
      "random:  [[0.07914297 0.68466181 0.49258672 0.1509604 ]\n",
      " [0.63843674 0.85319365 0.3285023  0.60701208]]\n",
      "randint:  2\n",
      "choice:  [[3 9 9]\n",
      " [7 3 5]]\n",
      "uniform:  [[2.87500892 9.01628853]\n",
      " [1.99811272 3.47776626]\n",
      " [7.94675885 4.08628526]]\n",
      "randn:  [[-0.8897855   0.66911561]\n",
      " [ 1.32854304  0.34210128]\n",
      " [-1.62014918 -0.21174625]]\n",
      "[[10.49353599 10.8195831 ]\n",
      " [ 9.44557101  8.93493195]\n",
      " [10.00297058  9.5695596 ]]\n"
     ]
    }
   ],
   "metadata": {}
  },
  {
   "cell_type": "markdown",
   "source": [
    "## 运算"
   ],
   "metadata": {}
  },
  {
   "cell_type": "code",
   "execution_count": 26,
   "source": [
    "a = np.array([[1,2], [3, 4]])\n",
    "b = np.arange(4).reshape((2,2))\n",
    "\n",
    "# 矩阵乘法\n",
    "print(np.dot(a, b))\n",
    "print(a.dot(b))\n",
    "\n",
    "# 对位乘法\n",
    "print(a * b)\n",
    "\n",
    "print(a ** 2)"
   ],
   "outputs": [
    {
     "output_type": "stream",
     "name": "stdout",
     "text": [
      "[[ 4  7]\n",
      " [ 8 15]]\n",
      "[[ 4  7]\n",
      " [ 8 15]]\n",
      "[[ 0  2]\n",
      " [ 6 12]]\n",
      "[[ 1  4]\n",
      " [ 9 16]]\n"
     ]
    }
   ],
   "metadata": {}
  },
  {
   "cell_type": "code",
   "execution_count": 27,
   "source": [
    "# 一些数学函数\n",
    "e = np.sin(a)\n",
    "print(e)"
   ],
   "outputs": [
    {
     "output_type": "stream",
     "name": "stdout",
     "text": [
      "[[ 0.84147098  0.90929743]\n",
      " [ 0.14112001 -0.7568025 ]]\n"
     ]
    }
   ],
   "metadata": {}
  },
  {
   "cell_type": "code",
   "execution_count": 28,
   "source": [
    "# 逻辑判断\n",
    "print(b < 3)"
   ],
   "outputs": [
    {
     "output_type": "stream",
     "name": "stdout",
     "text": [
      "[[ True  True]\n",
      " [ True False]]\n"
     ]
    }
   ],
   "metadata": {}
  },
  {
   "cell_type": "markdown",
   "source": [
    "### 聚合函数"
   ],
   "metadata": {}
  },
  {
   "cell_type": "code",
   "execution_count": 154,
   "source": [
    "r = np.random.randint(0, 100, (2, 5))\n",
    "print(r)\n",
    "\n",
    "print(\"sum: \", np.sum(r))\n",
    "print(\"sum[axis=0]: \", np.sum(r, axis=0))    # 列为方向\n",
    "print(\"sum[axis=1]: \", np.sum(r, axis=1))    # 一行运算一次\n",
    "\n",
    "print(\"min: \", np.min(r))\n",
    "print(\"min[axis=0]: \", np.min(r, axis=0))\n",
    "print(\"min[axis=1]: \", np.min(r, axis=1))\n",
    "\n",
    "print(\"argmax: \", np.argmax(r))\n",
    "print(\"argmax[axis=0]: \", np.argmax(r, axis=0))\n",
    "print(\"argmax[axis=1]: \", np.argmax(r, axis=1))\n",
    "\n",
    "print(\"mean: \", np.mean(r))\n",
    "print(\"average: \", np.average(r))\n",
    "print(\"median: \", np.median(r))"
   ],
   "outputs": [
    {
     "output_type": "stream",
     "name": "stdout",
     "text": [
      "[[ 7 60 21 79 84]\n",
      " [72 82 40 36  1]]\n",
      "sum:  482\n",
      "sum[axis=0]:  [ 79 142  61 115  85]\n",
      "sum[axis=1]:  [251 231]\n",
      "min:  1\n",
      "min[axis=0]:  [ 7 60 21 36  1]\n",
      "min[axis=1]:  [7 1]\n",
      "argmax:  4\n",
      "argmax[axis=0]:  [1 1 1 0 0]\n",
      "argmax[axis=1]:  [4 1]\n",
      "mean:  48.2\n",
      "average:  48.2\n",
      "median:  50.0\n"
     ]
    }
   ],
   "metadata": {}
  },
  {
   "cell_type": "code",
   "execution_count": 156,
   "source": [
    "r = np.random.randint(0, 10, (2, 3))\n",
    "print(r)\n",
    "\n",
    "# 将非零元素的行与列分隔开，冲构成两个分别关于行与列的矩阵\n",
    "print(np.nonzero(r))"
   ],
   "outputs": [
    {
     "output_type": "stream",
     "name": "stdout",
     "text": [
      "[[6 1 0]\n",
      " [8 8 9]]\n",
      "(array([0, 0, 1, 1, 1]), array([0, 1, 0, 1, 2]))\n"
     ]
    }
   ],
   "metadata": {}
  },
  {
   "cell_type": "code",
   "execution_count": 160,
   "source": [
    "a = np.arange(6, 0, -1).reshape(2, 3)\n",
    "print(a)\n",
    "\n",
    "print(np.sort(a))           # 行内排序\n",
    "print(np.sort(a, axis=0))   # 列内排序\n"
   ],
   "outputs": [
    {
     "output_type": "stream",
     "name": "stdout",
     "text": [
      "[[6 5 4]\n",
      " [3 2 1]]\n",
      "[[4 5 6]\n",
      " [1 2 3]]\n",
      "[[3 2 1]\n",
      " [6 5 4]]\n"
     ]
    }
   ],
   "metadata": {}
  },
  {
   "cell_type": "code",
   "execution_count": 161,
   "source": [
    "# 两种转置表达方式\n",
    "print(np.transpose(a))\n",
    "print(a.T)"
   ],
   "outputs": [
    {
     "output_type": "stream",
     "name": "stdout",
     "text": [
      "[[6 3]\n",
      " [5 2]\n",
      " [4 1]]\n",
      "[[6 3]\n",
      " [5 2]\n",
      " [4 1]]\n"
     ]
    }
   ],
   "metadata": {}
  },
  {
   "cell_type": "code",
   "execution_count": 165,
   "source": [
    "# 将数组中过大过小的数据进行裁切\n",
    "a = np.arange(0, 10).reshape(2, 5)\n",
    "print(a)\n",
    "\n",
    "# 小于3的都变为3， 大于8的都变为8\n",
    "print(np.clip(a, 3, 8))"
   ],
   "outputs": [
    {
     "output_type": "stream",
     "name": "stdout",
     "text": [
      "[[0 1 2 3 4]\n",
      " [5 6 7 8 9]]\n",
      "[[3 3 3 3 4]\n",
      " [5 6 7 8 8]]\n"
     ]
    }
   ],
   "metadata": {}
  },
  {
   "cell_type": "markdown",
   "source": [
    "## 索引"
   ],
   "metadata": {}
  },
  {
   "cell_type": "code",
   "execution_count": 171,
   "source": [
    "a = np.arange(6)\n",
    "\n",
    "print(a)\n",
    "print(a[1])\n",
    "\n",
    "a = a.reshape((2, 3))\n",
    "print(a)\n",
    "print(a[1])     # 矩阵的第二行\n",
    "print(a[1][2], a[1, 2])     # 第二行第三个元素（两种表示）"
   ],
   "outputs": [
    {
     "output_type": "stream",
     "name": "stdout",
     "text": [
      "[0 1 2 3 4 5]\n",
      "1\n",
      "[[0 1 2]\n",
      " [3 4 5]]\n",
      "[3 4 5]\n",
      "5 5\n"
     ]
    }
   ],
   "metadata": {}
  },
  {
   "cell_type": "code",
   "execution_count": 175,
   "source": [
    "# 切片\n",
    "print(a)\n",
    "print(a[1, 1:3])\n",
    "print(a[:, 1])"
   ],
   "outputs": [
    {
     "output_type": "stream",
     "name": "stdout",
     "text": [
      "[[0 1 2]\n",
      " [3 4 5]]\n",
      "[4 5]\n",
      "[1 4]\n",
      "[[0 1 2]\n",
      " [3 4 5]]\n"
     ]
    }
   ],
   "metadata": {}
  },
  {
   "cell_type": "code",
   "execution_count": 183,
   "source": [
    "# 遍历\n",
    "for row in a:\n",
    "    for item in row:\n",
    "        print(item, end=\" \")\n",
    "\n",
    "print()\n",
    "\n",
    "for item in a.flat:         # a.flatten() 将多维矩阵展开成1行的矩阵\n",
    "    print(item, end=\" \")"
   ],
   "outputs": [
    {
     "output_type": "stream",
     "name": "stdout",
     "text": [
      "0 1 2 3 4 5 \n",
      "0 1 2 3 4 5 "
     ]
    }
   ],
   "metadata": {}
  },
  {
   "cell_type": "markdown",
   "source": [
    "## 数组操作"
   ],
   "metadata": {}
  },
  {
   "cell_type": "code",
   "execution_count": 185,
   "source": [
    "# 合并\n",
    "a = np.array([1, 1, 1])\n",
    "b = np.array([2, 2, 2])\n",
    "\n",
    "# 垂直拼接\n",
    "print(np.vstack((a, b)))\n",
    "\n",
    "# 水平拼接\n",
    "print(np.hstack((a, b)))"
   ],
   "outputs": [
    {
     "output_type": "stream",
     "name": "stdout",
     "text": [
      "[[1 1 1]\n",
      " [2 2 2]]\n",
      "[1 1 1 2 2 2]\n"
     ]
    }
   ],
   "metadata": {}
  },
  {
   "cell_type": "code",
   "execution_count": 194,
   "source": [
    "# 添加维度\n",
    "# 一维数组转置会没有效果的\n",
    "print(a.T)\n",
    "\n",
    "print(a[np.newaxis, :])     # 一行三列\n",
    "print(a[:, np.newaxis])     # 三行一列\n",
    "\n",
    "print(a[np.newaxis, :].T)\n",
    "print(a[:, np.newaxis].shape)"
   ],
   "outputs": [
    {
     "output_type": "stream",
     "name": "stdout",
     "text": [
      "[1 1 1]\n",
      "[[1 1 1]]\n",
      "[[1]\n",
      " [1]\n",
      " [1]]\n",
      "[[1]\n",
      " [1]\n",
      " [1]]\n",
      "(3, 1)\n"
     ]
    }
   ],
   "metadata": {}
  },
  {
   "cell_type": "code",
   "execution_count": 200,
   "source": [
    "# 合并多个矩阵\n",
    "a, b = np.array([1, 1, 1]), np.array([2, 2, 2])\n",
    "a, b = a[:, np.newaxis], b[:, np.newaxis]\n",
    "\n",
    "print(np.concatenate((a,b,b,a), axis=0))\n",
    "print(np.concatenate((a,b,b,a), axis=1))\n"
   ],
   "outputs": [
    {
     "output_type": "stream",
     "name": "stdout",
     "text": [
      "[[1]\n",
      " [1]\n",
      " [1]\n",
      " [2]\n",
      " [2]\n",
      " [2]\n",
      " [2]\n",
      " [2]\n",
      " [2]\n",
      " [1]\n",
      " [1]\n",
      " [1]]\n",
      "[[1 2 2 1]\n",
      " [1 2 2 1]\n",
      " [1 2 2 1]]\n"
     ]
    }
   ],
   "metadata": {}
  },
  {
   "cell_type": "code",
   "execution_count": 206,
   "source": [
    "# 分割\n",
    "a = np.arange(12).reshape(3, -1)\n",
    "print(a)\n",
    "\n",
    "# 横向切\n",
    "print(np.split(a, 3, axis=0))\n",
    "print(np.vsplit(a, 3))\n",
    "\n",
    "# 纵向切\n",
    "print(np.split(a, 2, axis=1))\n",
    "print(np.hsplit(a, 2))\n",
    "\n",
    "# 不等量切割\n",
    "print(np.array_split(a, 3, axis=1))\n"
   ],
   "outputs": [
    {
     "output_type": "stream",
     "name": "stdout",
     "text": [
      "[[ 0  1  2  3]\n",
      " [ 4  5  6  7]\n",
      " [ 8  9 10 11]]\n",
      "[array([[0, 1, 2, 3]]), array([[4, 5, 6, 7]]), array([[ 8,  9, 10, 11]])]\n",
      "[array([[0, 1, 2, 3]]), array([[4, 5, 6, 7]]), array([[ 8,  9, 10, 11]])]\n",
      "[array([[0, 1],\n",
      "       [4, 5],\n",
      "       [8, 9]]), array([[ 2,  3],\n",
      "       [ 6,  7],\n",
      "       [10, 11]])]\n",
      "[array([[0, 1],\n",
      "       [4, 5],\n",
      "       [8, 9]]), array([[ 2,  3],\n",
      "       [ 6,  7],\n",
      "       [10, 11]])]\n",
      "[array([[0, 1],\n",
      "       [4, 5],\n",
      "       [8, 9]]), array([[ 2],\n",
      "       [ 6],\n",
      "       [10]]), array([[ 3],\n",
      "       [ 7],\n",
      "       [11]])]\n"
     ]
    }
   ],
   "metadata": {}
  },
  {
   "cell_type": "markdown",
   "source": [
    "## 拷贝"
   ],
   "metadata": {}
  },
  {
   "cell_type": "code",
   "execution_count": 208,
   "source": [
    "# 浅拷贝\n",
    "a = np.arange(3)\n",
    "b = a\n",
    "b[1] = 100\n",
    "print(a, b, b is a)"
   ],
   "outputs": [
    {
     "output_type": "stream",
     "name": "stdout",
     "text": [
      "[  0 100   2] [  0 100   2] True\n"
     ]
    }
   ],
   "metadata": {}
  },
  {
   "cell_type": "code",
   "execution_count": 210,
   "source": [
    "# 深拷贝\n",
    "b = a.copy()\n",
    "a[2] = 99\n",
    "print(a, b, a is b)"
   ],
   "outputs": [
    {
     "output_type": "stream",
     "name": "stdout",
     "text": [
      "[  0 100  99] [  0 100  99] False\n"
     ]
    }
   ],
   "metadata": {}
  }
 ],
 "metadata": {
  "orig_nbformat": 4,
  "language_info": {
   "name": "python",
   "version": "3.7.11",
   "mimetype": "text/x-python",
   "codemirror_mode": {
    "name": "ipython",
    "version": 3
   },
   "pygments_lexer": "ipython3",
   "nbconvert_exporter": "python",
   "file_extension": ".py"
  },
  "kernelspec": {
   "name": "python3",
   "display_name": "Python 3.7.11 64-bit ('cv': conda)"
  },
  "interpreter": {
   "hash": "fae0b8db5daef04bdef6b28b91130d8cf2746b07f3f9c6da64121295d3f83694"
  }
 },
 "nbformat": 4,
 "nbformat_minor": 2
}