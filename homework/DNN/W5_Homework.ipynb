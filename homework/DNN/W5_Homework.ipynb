{
 "cells": [
  {
   "cell_type": "markdown",
   "metadata": {},
   "source": [
    "<img src=\"https://upload-images.jianshu.io/upload_images/12014150-61678887c8186205.png?imageMogr2/auto-orient/strip%7CimageView2/2/w/1240\" alt=\"image.png\" style=\"zoom:50%;\" />"
   ]
  },
  {
   "cell_type": "markdown",
   "metadata": {},
   "source": [
    "## 推导变量导数表达式\n",
    "\n",
    "由原始定义\n",
    "$$\n",
    "\\begin{aligned}\n",
    "&h=X W_{1}+b_{1} \\\\\n",
    "&h_{\\text {sigmoid }}=\\operatorname{sigmoid}(h) \\\\\n",
    "&Y_{\\text {pred }}=h_{\\text {sigmoid }} W_{2}+b_{2} \\\\\n",
    "&f=\\left\\|Y-Y_{\\text {pred }}\\right\\|_{F}^{2}\n",
    "\\end{aligned}\n",
    "$$\n",
    "\n",
    "得\n",
    "\n",
    "$$\n",
    "\\frac{\\partial f}{\\partial Y_{pred}} = 2(Y_{pred} - Y)\n",
    "$$\n",
    "\n",
    "$$\n",
    "\\frac{\\partial f}{\\partial h_{sigmoid}} = \\frac{\\partial f}{\\partial Y_{pred}}W_2^T\n",
    "$$\n",
    "\n",
    "$$\n",
    "\\frac{\\partial f}{\\partial W_2} = h_{sigmoid}^T \\frac{\\partial f}{\\partial Y_{pred}}, \\ \\frac{\\partial f}{\\partial b_2} = \\frac{\\partial f}{\\partial Y_{pred}}\n",
    "$$\n",
    "\n",
    "$$\n",
    "\\frac{\\partial f}{\\partial h} = \\frac{\\partial f}{\\partial h_{sigmoid}} \\odot sigmoid'(h), \\ sigmoid'(x) = sigmoid(x)(1-sigmoid(x))\n",
    "$$\n",
    "\n",
    "$$\n",
    "\\frac{\\partial f}{\\partial W_1} = X^T \\frac{\\partial f}{\\partial h}, \\ \\frac{\\partial f}{\\partial b_1} = \\frac{\\partial f}{\\partial h}\n",
    "$$\n",
    "\n",
    "综上\n",
    "\n",
    "- $\\frac{\\partial f}{\\partial W_1} = (2X^T(Y_{pred}-Y)W_2^T) \\odot (sigmoid(h)(1-sigmoid(h)))$\n",
    "- $\\frac{\\partial f}{\\partial b_1} = (2(Y_{pred}-Y)W_2^T) \\odot (sigmoid(h)(1-sigmoid(h)))$\n",
    "- $\\frac{\\partial f}{\\partial W_2} = 2h_{sigmoid}^T(Y_{pred}-Y)$\n",
    "- $\\frac{\\partial f}{\\partial b_2} = 2(Y_{pred} - Y)$\n"
   ]
  },
  {
   "cell_type": "code",
   "execution_count": 1,
   "metadata": {},
   "outputs": [],
   "source": [
    "%matplotlib inline\n",
    "import torch\n",
    "import torch.nn.functional as F\n",
    "import matplotlib.pyplot as plt\n",
    "from IPython import display\n",
    "\n",
    "\n",
    "torch.manual_seed(1)    # reproducible\n",
    "\n",
    "x = torch.unsqueeze(torch.linspace(-1, 1, 100), dim=1)  # x data (tensor), shape=(100, 1)\n",
    "y = x.pow(2) + 0.2*torch.rand(x.size())       "
   ]
  },
  {
   "cell_type": "code",
   "execution_count": 2,
   "metadata": {},
   "outputs": [
    {
     "data": {
      "text/plain": [
       "<matplotlib.collections.PathCollection at 0x7fd2fa9d6350>"
      ]
     },
     "execution_count": 2,
     "metadata": {},
     "output_type": "execute_result"
    },
    {
     "data": {
      "image/png": "[encoded data removed]",
      "text/plain": [
       "<Figure size 432x288 with 1 Axes>"
      ]
     },
     "metadata": {
      "needs_background": "light"
     },
     "output_type": "display_data"
    }
   ],
   "source": [
    "plt.scatter(x.numpy(), y.numpy())"
   ]
  },
  {
   "cell_type": "markdown",
   "metadata": {},
   "source": [
    "## 搭建两层含有bias的全连接网络，隐藏层输出个数为20，激活函数都用sigmoid()"
   ]
  },
  {
   "cell_type": "code",
   "execution_count": 3,
   "metadata": {},
   "outputs": [],
   "source": [
    "class Net(torch.nn.Module):\n",
    "    def __init__(self, n_feature, n_hidden, n_output):\n",
    "        super(Net, self).__init__()\n",
    "        self.net = torch.nn.Sequential(\n",
    "            torch.nn.Linear(n_feature, n_hidden, bias=True),\n",
    "            torch.nn.Sigmoid(),\n",
    "            torch.nn.Linear(n_hidden, n_output, bias=True)\n",
    "        )\n",
    "\n",
    "        # self.hidden = torch.nn.Linear(n_feature, n_hidden, bias=True)\n",
    "        # self.predict = torch.nn.Linear(n_hidden, n_output, bias=True)\n",
    " \n",
    "    def forward(self, x):\n",
    "        # x = F.sigmoid(self.hidden(x))\n",
    "        # x = self.predict(x)\n",
    "        x = self.net(x)\n",
    "        return x"
   ]
  },
  {
   "cell_type": "code",
   "execution_count": 4,
   "metadata": {},
   "outputs": [
    {
     "data": {
      "image/png": "[encoded data removed]",
      "text/plain": [
       "<Figure size 432x288 with 1 Axes>"
      ]
     },
     "metadata": {
      "needs_background": "light"
     },
     "output_type": "display_data"
    },
    {
     "data": {
      "text/plain": [
       "<matplotlib.pyplot._IoffContext at 0x7fd2fa9d6610>"
      ]
     },
     "execution_count": 4,
     "metadata": {},
     "output_type": "execute_result"
    }
   ],
   "source": [
    "net = Net(n_feature=1, n_hidden=20, n_output=1)     # define the network\n",
    "print(net)  # net architecture\n",
    "optimizer = torch.optim.SGD(net.parameters(), lr=0.5)\n",
    "loss_func = torch.nn.MSELoss()  # this is for regression mean squared loss\n",
    "\n",
    "plt.ion()   # something about plotting\n",
    "\n",
    "for t in range(2000):\n",
    "    prediction = net(x)     # input x and predict based on x\n",
    "    loss = loss_func(prediction, y)     # must be (1. nn output, 2. target)\n",
    "\n",
    "    optimizer.zero_grad()   # clear gradients for next train\n",
    "    loss.backward()         # backpropagation, compute gradients\n",
    "    optimizer.step()        # apply gradients\n",
    "\n",
    "    if t % 200 == 0:\n",
    "        # plot and show learning process\n",
    "        plt.cla()\n",
    "        display.clear_output()\n",
    "        plt.scatter(x.numpy(), y.numpy())\n",
    "        plt.plot(x.numpy(), prediction.data.numpy(), 'r-', lw=5)\n",
    "        plt.text(0.5, 0, 't = %d, Loss=%.4f' % (t, loss.data.numpy()), fontdict={'size': 20, 'color':  'red'})\n",
    "        plt.pause(0.1)\n",
    "        plt.show()\n",
    "\n",
    "plt.ioff()\n",
    "# plt.show()"
   ]
  }
 ],
 "metadata": {
  "interpreter": {
   "hash": "eaec372a0783a1fe676e24615e6d5d9daeb747ab1ec5a93128d336745d088419"
  },
  "kernelspec": {
   "display_name": "Python 3.7.11 64-bit ('cv': conda)",
   "name": "python3"
  },
  "language_info": {
   "codemirror_mode": {
    "name": "ipython",
    "version": 3
   },
   "file_extension": ".py",
   "mimetype": "text/x-python",
   "name": "python",
   "nbconvert_exporter": "python",
   "pygments_lexer": "ipython3",
   "version": "3.7.11"
  }
 },
 "nbformat": 4,
 "nbformat_minor": 4
}
