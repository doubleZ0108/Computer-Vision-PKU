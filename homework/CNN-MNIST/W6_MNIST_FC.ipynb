{
 "cells": [
  {
   "cell_type": "code",
   "execution_count": 1,
   "metadata": {},
   "outputs": [
    {
     "name": "stdout",
     "output_type": "stream",
     "text": [
      "torch.Size([60000, 28, 28])\n"
     ]
    },
    {
     "name": "stderr",
     "output_type": "stream",
     "text": [
      "/home/doublez/anaconda3/envs/deep_learning/lib/python3.9/site-packages/torchvision/datasets/mnist.py:498: UserWarning: The given NumPy array is not writeable, and PyTorch does not support non-writeable tensors. This means you can write to the underlying (supposedly non-writeable) NumPy array using the tensor. You may want to copy the array to protect its data or make it writeable before converting it to a tensor. This type of warning will be suppressed for the rest of this program. (Triggered internally at  /opt/conda/conda-bld/pytorch_1631630841592/work/torch/csrc/utils/tensor_numpy.cpp:180.)\n",
      "  return torch.from_numpy(parsed.astype(m[2], copy=False)).view(*s)\n"
     ]
    }
   ],
   "source": [
    "import torch\n",
    "import torch.nn as nn\n",
    "import torch.utils.data as Data\n",
    "import torchvision\n",
    "from torchvision import transforms\n",
    "import torch.nn.functional as F\n",
    "import numpy as np\n",
    "import matplotlib.pyplot as plt\n",
    "\n",
    "torch.cuda.set_per_process_memory_fraction(0.6, 0)\n",
    "torch.cuda.empty_cache()\n",
    "torch.manual_seed(1)\n",
    "torch.cuda.manual_seed(1)\n",
    "\n",
    "EPOCH = 20\n",
    "LR = 0.0005\n",
    "DOWNLOAD_MNIST = False\n",
    "\n",
    "train_tfm = transforms.Compose([\n",
    "    transforms.AutoAugment(),\n",
    "    transforms.RandomAffine(20),\n",
    "    transforms.RandomRotation(20),\n",
    "    transforms.ToTensor()\n",
    "])\n",
    "\n",
    "train_data = torchvision.datasets.MNIST(root='./mnist/', train=True, transform=train_tfm, download=DOWNLOAD_MNIST)\n",
    "test_data = torchvision.datasets.MNIST(root='./mnist/', train=False)\n",
    "print(train_data.data.shape)\n",
    "\n",
    "train_x = torch.unsqueeze(train_data.data, dim=1).type(torch.FloatTensor) / 255.\n",
    "train_y = train_data.targets\n",
    "\n",
    "test_x = torch.unsqueeze(test_data.data, dim=1).type(torch.FloatTensor)[:] / 255.  # Tensor on GPU\n",
    "test_y = test_data.targets[:]"
   ]
  },
  {
   "cell_type": "code",
   "execution_count": 2,
   "metadata": {},
   "outputs": [
    {
     "name": "stdout",
     "output_type": "stream",
     "text": [
      "tensor([7, 2, 1, 0, 4, 1, 4, 9, 5, 9])\n"
     ]
    },
    {
     "data": {
      "image/png": "[encoded data removed]",
      "text/plain": [
       "<Figure size 432x288 with 1 Axes>"
      ]
     },
     "metadata": {
      "needs_background": "light"
     },
     "output_type": "display_data"
    }
   ],
   "source": [
    "plt.imshow(test_x[1,0,:,:].numpy(), 'gray')\n",
    "print(test_y[:10])"
   ]
  },
  {
   "cell_type": "code",
   "execution_count": 3,
   "metadata": {},
   "outputs": [],
   "source": [
    "class CNN(nn.Module):\n",
    "    def __init__(self):\n",
    "        super(CNN, self).__init__()\n",
    "        self.cnn = torch.nn.Sequential(\n",
    "            torch.nn.Conv2d(in_channels=1, out_channels=16, kernel_size=5, stride=1, padding=2),\n",
    "            \n",
    "            torch.nn.BatchNorm2d(16),\n",
    "            torch.nn.ReLU(),\n",
    "            torch.nn.Dropout2d(p=0.1),\n",
    "            torch.nn.MaxPool2d(kernel_size=2),\n",
    "            \n",
    "\n",
    "            torch.nn.Conv2d(16, 32, 5, 1, 2), \n",
    "            torch.nn.BatchNorm2d(32),\n",
    "            torch.nn.ReLU(),\n",
    "            torch.nn.Dropout2d(p=0.2),\n",
    "            torch.nn.MaxPool2d(2),\n",
    "            \n",
    "\n",
    "            torch.nn.Conv2d(32, 64, 5, 1, 2), \n",
    "            torch.nn.ReLU(),\n",
    "            torch.nn.BatchNorm2d(64),\n",
    "            torch.nn.Dropout2d(p=0.2)\n",
    "        )\n",
    "        # self.linear = torch.nn.Linear(32*7*7, 10)\n",
    "        self.linear = torch.nn.Sequential(\n",
    "            torch.nn.Linear(64*7*7, 100), \n",
    "            torch.nn.BatchNorm1d(100),\n",
    "            torch.nn.Dropout(0.2),\n",
    "            torch.nn.Linear(100, 10),\n",
    "            torch.nn.ReLU()\n",
    "        )\n",
    "\n",
    "    def forward(self, x):\n",
    "        x = self.cnn(x)\n",
    "        x = x.view(x.size(0), -1)\n",
    "        x = self.linear(x)\n",
    "        output = x\n",
    "        return output\n",
    "\n",
    "model = CNN()\n",
    "model.cuda()\n",
    "\n",
    "optimizer = torch.optim.Adam(model.parameters(), lr=LR)\n",
    "loss_func = nn.CrossEntropyLoss()"
   ]
  },
  {
   "cell_type": "code",
   "execution_count": 4,
   "metadata": {},
   "outputs": [
    {
     "name": "stdout",
     "output_type": "stream",
     "text": [
      "Epoch:  0 | train loss: 2.3946 | test accuracy: 0.202\n",
      "Epoch:  0 | train loss: 0.2626 | test accuracy: 0.965\n",
      "Epoch:  1 | train loss: 0.1199 | test accuracy: 0.977\n",
      "Epoch:  1 | train loss: 0.1199 | test accuracy: 0.982\n",
      "Epoch:  2 | train loss: 0.0608 | test accuracy: 0.984\n",
      "Epoch:  2 | train loss: 0.0936 | test accuracy: 0.987\n",
      "Epoch:  3 | train loss: 0.1129 | test accuracy: 0.989\n",
      "Epoch:  3 | train loss: 0.0747 | test accuracy: 0.987\n",
      "Epoch:  4 | train loss: 0.0207 | test accuracy: 0.990\n",
      "Epoch:  4 | train loss: 0.0257 | test accuracy: 0.989\n",
      "Epoch:  5 | train loss: 0.0515 | test accuracy: 0.988\n",
      "Epoch:  5 | train loss: 0.0274 | test accuracy: 0.990\n",
      "Epoch:  6 | train loss: 0.0510 | test accuracy: 0.988\n",
      "Epoch:  6 | train loss: 0.0357 | test accuracy: 0.991\n",
      "Epoch:  7 | train loss: 0.0332 | test accuracy: 0.991\n",
      "Epoch:  7 | train loss: 0.0215 | test accuracy: 0.990\n",
      "Epoch:  8 | train loss: 0.0130 | test accuracy: 0.991\n",
      "Epoch:  8 | train loss: 0.0181 | test accuracy: 0.990\n",
      "Epoch:  9 | train loss: 0.0236 | test accuracy: 0.990\n",
      "Epoch:  9 | train loss: 0.0069 | test accuracy: 0.990\n",
      "Epoch:  10 | train loss: 0.0048 | test accuracy: 0.990\n",
      "Epoch:  10 | train loss: 0.0065 | test accuracy: 0.991\n",
      "Epoch:  11 | train loss: 0.0175 | test accuracy: 0.989\n",
      "Epoch:  11 | train loss: 0.0158 | test accuracy: 0.990\n",
      "Epoch:  12 | train loss: 0.0352 | test accuracy: 0.991\n",
      "Epoch:  12 | train loss: 0.0130 | test accuracy: 0.990\n",
      "Epoch:  13 | train loss: 0.0071 | test accuracy: 0.992\n",
      "Epoch:  13 | train loss: 0.0061 | test accuracy: 0.992\n",
      "Epoch:  14 | train loss: 0.0091 | test accuracy: 0.991\n",
      "Epoch:  14 | train loss: 0.0284 | test accuracy: 0.989\n",
      "Epoch:  15 | train loss: 0.0145 | test accuracy: 0.991\n",
      "Epoch:  15 | train loss: 0.0139 | test accuracy: 0.992\n",
      "Epoch:  16 | train loss: 0.0088 | test accuracy: 0.990\n",
      "Epoch:  16 | train loss: 0.0016 | test accuracy: 0.991\n",
      "Epoch:  17 | train loss: 0.0032 | test accuracy: 0.991\n",
      "Epoch:  17 | train loss: 0.0145 | test accuracy: 0.991\n",
      "Epoch:  18 | train loss: 0.0019 | test accuracy: 0.992\n",
      "Epoch:  18 | train loss: 0.0010 | test accuracy: 0.992\n",
      "Epoch:  19 | train loss: 0.0015 | test accuracy: 0.990\n",
      "Epoch:  19 | train loss: 0.0249 | test accuracy: 0.992\n"
     ]
    }
   ],
   "source": [
    "data_size = 20000\n",
    "batch_size = 100\n",
    "\n",
    "loss_list = []\n",
    "acc_list = []\n",
    "\n",
    "for epoch in range(EPOCH):\n",
    "    random_indx = np.random.permutation(data_size)\n",
    "    for batch_i in range(data_size // batch_size):\n",
    "        model.train()\n",
    "        indx = random_indx[batch_i * batch_size:(batch_i + 1) * batch_size]\n",
    "\n",
    "        b_x = train_x[indx, :]\n",
    "        b_y = train_y[indx]\n",
    "\n",
    "        output = model(b_x.cuda())\n",
    "        loss = loss_func(output, b_y.cuda())\n",
    "\n",
    "        loss.backward()\n",
    "        optimizer.step()\n",
    "        optimizer.zero_grad()\n",
    "\n",
    "        if batch_i % 100 == 0:\n",
    "            model.eval()\n",
    "            with torch.no_grad():\n",
    "                test_output = model(test_x.cuda())\n",
    "                pred_y = torch.max(test_output, 1)[1].data.squeeze()\n",
    "                accuracy = torch.sum(pred_y == test_y.cuda()).type(torch.FloatTensor) / test_y.size(0)\n",
    "                print('Epoch: ', epoch, '| train loss: %.4f' % loss.data.cpu().numpy(), '| test accuracy: %.3f' % accuracy)\n",
    "                loss_list.append(loss.data.cpu().numpy())\n",
    "                acc_list.append(accuracy)"
   ]
  },
  {
   "cell_type": "code",
   "execution_count": 5,
   "metadata": {},
   "outputs": [
    {
     "data": {
      "image/png": "[encoded data removed]",
      "text/plain": [
       "<Figure size 432x288 with 2 Axes>"
      ]
     },
     "metadata": {
      "needs_background": "light"
     },
     "output_type": "display_data"
    }
   ],
   "source": [
    "x = np.arange(len(loss_list))\n",
    "plt.figure()\n",
    "plt.subplot(1, 2, 1), plt.plot(x, loss_list, 'r', label='loss'), plt.title('loss')\n",
    "plt.subplot(1, 2, 2), plt.plot(x, acc_list, 'b-', label='accuracy'), plt.title('accuracy')\n",
    "plt.show()"
   ]
  },
  {
   "cell_type": "code",
   "execution_count": 6,
   "metadata": {},
   "outputs": [
    {
     "name": "stdout",
     "output_type": "stream",
     "text": [
      "tensor([7, 2, 1, 0, 4, 1, 4, 9, 5, 9]) prediction number\n",
      "tensor([7, 2, 1, 0, 4, 1, 4, 9, 5, 9]) real number\n"
     ]
    }
   ],
   "source": [
    "model.eval()\n",
    "model.cpu()\n",
    "\n",
    "test_output = model(test_x[:10])\n",
    "pred_y = torch.max(test_output, 1)[1].data.squeeze()  # move the computation in GPU\n",
    "\n",
    "print(pred_y, 'prediction number')\n",
    "print(test_y[:10], 'real number')"
   ]
  },
  {
   "cell_type": "code",
   "execution_count": 7,
   "metadata": {},
   "outputs": [
    {
     "name": "stdout",
     "output_type": "stream",
     "text": [
      "tensor([ 0.0000,  0.1897,  0.0000,  0.0000,  0.0000,  0.0000,  0.0000, 18.3308,\n",
      "         0.0000,  0.1263], grad_fn=<SelectBackward>)\n"
     ]
    },
    {
     "data": {
      "text/plain": [
       "<matplotlib.image.AxesImage at 0x7f8b28308670>"
      ]
     },
     "execution_count": 7,
     "metadata": {},
     "output_type": "execute_result"
    },
    {
     "data": {
      "image/png": "[encoded data removed]",
      "text/plain": [
       "<Figure size 432x288 with 1 Axes>"
      ]
     },
     "metadata": {
      "needs_background": "light"
     },
     "output_type": "display_data"
    }
   ],
   "source": [
    "print(test_output[0])\n",
    "plt.imshow(test_x[:1].numpy().squeeze(), 'gray')"
   ]
  }
 ],
 "metadata": {
  "interpreter": {
   "hash": "a3b0ff572e5cd24ec265c5b4da969dd40707626c6e113422fd84bd2b9440fcfc"
  },
  "kernelspec": {
   "display_name": "Python 3.9.7 64-bit ('deep_learning': conda)",
   "name": "python3"
  },
  "language_info": {
   "codemirror_mode": {
    "name": "ipython",
    "version": 3
   },
   "file_extension": ".py",
   "mimetype": "text/x-python",
   "name": "python",
   "nbconvert_exporter": "python",
   "pygments_lexer": "ipython3",
   "version": "3.9.7"
  }
 },
 "nbformat": 4,
 "nbformat_minor": 4
}
