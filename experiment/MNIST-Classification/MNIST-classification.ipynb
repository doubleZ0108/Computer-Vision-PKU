{
 "cells": [
  {
   "cell_type": "code",
   "execution_count": 1,
   "metadata": {},
   "outputs": [],
   "source": [
    "import torch\n",
    "import numpy as np\n",
    "import matplotlib.pyplot as plt\n",
    "import torchvision\n",
    "import torch.nn.functional as F\n",
    "from torch.utils.data import Dataset, DataLoader\n",
    "from torch.autograd import Variable\n",
    "from torchvision import datasets, transforms"
   ]
  },
  {
   "cell_type": "code",
   "execution_count": 2,
   "metadata": {},
   "outputs": [],
   "source": [
    "torch.cuda.empty_cache()\n",
    "torch.manual_seed(1)\n",
    "torch.cuda.manual_seed(1)"
   ]
  },
  {
   "cell_type": "code",
   "execution_count": 3,
   "metadata": {},
   "outputs": [],
   "source": [
    "BATCH = 100\n",
    "EPOCH = 5\n",
    "LR = 0.001"
   ]
  },
  {
   "cell_type": "code",
   "execution_count": 4,
   "metadata": {},
   "outputs": [
    {
     "name": "stderr",
     "output_type": "stream",
     "text": [
      "/home/doublez/anaconda3/envs/deep_learning/lib/python3.9/site-packages/torchvision/datasets/mnist.py:498: UserWarning: The given NumPy array is not writeable, and PyTorch does not support non-writeable tensors. This means you can write to the underlying (supposedly non-writeable) NumPy array using the tensor. You may want to copy the array to protect its data or make it writeable before converting it to a tensor. This type of warning will be suppressed for the rest of this program. (Triggered internally at  /opt/conda/conda-bld/pytorch_1631630841592/work/torch/csrc/utils/tensor_numpy.cpp:180.)\n",
      "  return torch.from_numpy(parsed.astype(m[2], copy=False)).view(*s)\n"
     ]
    }
   ],
   "source": [
    "train_dataset = torchvision.datasets.MNIST(root='./data/', train=True, transform=transforms.ToTensor(), download=False)\n",
    "test_dataset = torchvision.datasets.MNIST(root='./data/', train=False, transform=transforms.ToTensor())\n",
    "train_loader = DataLoader(dataset=train_dataset, batch_size=BATCH, shuffle=True, num_workers=4, drop_last=True)\n",
    "test_loader = DataLoader(dataset=test_dataset, batch_size=BATCH, shuffle=False, num_workers=4, drop_last=False)"
   ]
  },
  {
   "cell_type": "code",
   "execution_count": 5,
   "metadata": {},
   "outputs": [
    {
     "name": "stdout",
     "output_type": "stream",
     "text": [
      "Train dataset shape: torch.Size([60000, 28, 28])\n",
      "Test dataset shape: torch.Size([10000, 28, 28])\n"
     ]
    }
   ],
   "source": [
    "print(\"Train dataset shape:\", train_dataset.data.shape)\n",
    "print(\"Test dataset shape:\", test_dataset.data.shape)\n",
    "\n",
    "# plt.imshow(train_dataset.data[0], cmap='gray')"
   ]
  },
  {
   "cell_type": "code",
   "execution_count": 6,
   "metadata": {},
   "outputs": [],
   "source": [
    "class Net(torch.nn.Module):\n",
    "    def __init__(self):\n",
    "        super(Net, self).__init__()\n",
    "\n",
    "        self.net = torch.nn.Sequential(\n",
    "            torch.nn.Linear(28*28, 256),\n",
    "            torch.nn.BatchNorm1d(256),\n",
    "            torch.nn.Dropout(p=0.3),\n",
    "            torch.nn.ReLU(),\n",
    "\n",
    "            torch.nn.Linear(256, 10)\n",
    "        )\n",
    "\n",
    "        torch.nn.init.normal_(self.net[0].weight)\n",
    "        torch.nn.init.normal_(self.net[-1].weight)\n",
    "\n",
    "    def forward(self, x):\n",
    "        x = x.view(x.size(0), -1)   # size(0)是batch\n",
    "        x = self.net(x)\n",
    "        # return F.softmax(x)\n",
    "        return x"
   ]
  },
  {
   "cell_type": "code",
   "execution_count": 7,
   "metadata": {},
   "outputs": [],
   "source": [
    "class CNN(torch.nn.Module):\n",
    "    def __init__(self):\n",
    "        super(CNN, self).__init__()\n",
    "\n",
    "        self.cnn = torch.nn.Sequential(\n",
    "            torch.nn.Conv2d(in_channels=1, out_channels=16, kernel_size=5, stride=1, padding=2),\n",
    "            torch.nn.ReLU(),\n",
    "            torch.nn.MaxPool2d(kernel_size=2),\n",
    "            torch.nn.Conv2d(16, 32, 5, 1, 2),\n",
    "            torch.nn.MaxPool2d(2)\n",
    "        )\n",
    "        self.linear = torch.nn.Linear(32*7*7, 10)\n",
    "\n",
    "    def forward(self, x):\n",
    "        x = self.cnn(x)\n",
    "        x = x.view(x.size(0), -1)\n",
    "        x = self.linear(x)\n",
    "        # return F.softmax(x)   # 最后如果加softmax loss会降不下去\n",
    "        return x"
   ]
  },
  {
   "cell_type": "code",
   "execution_count": 8,
   "metadata": {},
   "outputs": [],
   "source": [
    "model = CNN()\n",
    "model.cuda()\n",
    "loss_func = torch.nn.CrossEntropyLoss()\n",
    "optim = torch.optim.Adam(model.parameters(), lr=LR)"
   ]
  },
  {
   "cell_type": "code",
   "execution_count": 9,
   "metadata": {},
   "outputs": [
    {
     "name": "stderr",
     "output_type": "stream",
     "text": [
      "/home/doublez/anaconda3/envs/deep_learning/lib/python3.9/site-packages/torchvision/datasets/mnist.py:67: UserWarning: test_data has been renamed data\n",
      "  warnings.warn(\"test_data has been renamed data\")\n",
      "/home/doublez/anaconda3/envs/deep_learning/lib/python3.9/site-packages/torchvision/datasets/mnist.py:57: UserWarning: test_labels has been renamed targets\n",
      "  warnings.warn(\"test_labels has been renamed targets\")\n"
     ]
    },
    {
     "name": "stdout",
     "output_type": "stream",
     "text": [
      "Epoch 0 | step 0 | loss: 2.3012311458587646 | acc: 0.1492999941110611\n",
      "Epoch 0 | step 100 | loss: 0.2700835168361664 | acc: 0.9004999995231628\n",
      "Epoch 0 | step 200 | loss: 0.07357686758041382 | acc: 0.9455999732017517\n",
      "Epoch 0 | step 300 | loss: 0.13594979047775269 | acc: 0.9679999947547913\n",
      "Epoch 0 | step 400 | loss: 0.057857416570186615 | acc: 0.9713999629020691\n",
      "Epoch 0 | step 500 | loss: 0.09343289583921432 | acc: 0.9758999943733215\n",
      "Epoch 1 | step 0 | loss: 0.0410173274576664 | acc: 0.9765999913215637\n",
      "Epoch 1 | step 100 | loss: 0.0751243382692337 | acc: 0.9708999991416931\n",
      "Epoch 1 | step 200 | loss: 0.07934143394231796 | acc: 0.9747999906539917\n",
      "Epoch 1 | step 300 | loss: 0.10485872626304626 | acc: 0.9789999723434448\n",
      "Epoch 1 | step 400 | loss: 0.07561119645833969 | acc: 0.9788999557495117\n",
      "Epoch 1 | step 500 | loss: 0.07611963897943497 | acc: 0.9795999526977539\n",
      "Epoch 2 | step 0 | loss: 0.03365582600235939 | acc: 0.9788999557495117\n",
      "Epoch 2 | step 100 | loss: 0.036087870597839355 | acc: 0.9799999594688416\n",
      "Epoch 2 | step 200 | loss: 0.09054034948348999 | acc: 0.9731999635696411\n",
      "Epoch 2 | step 300 | loss: 0.04907950013875961 | acc: 0.9821999669075012\n",
      "Epoch 2 | step 400 | loss: 0.07226790487766266 | acc: 0.9847999811172485\n",
      "Epoch 2 | step 500 | loss: 0.03197281062602997 | acc: 0.9794999957084656\n",
      "Epoch 3 | step 0 | loss: 0.04912732541561127 | acc: 0.9842999577522278\n",
      "Epoch 3 | step 100 | loss: 0.00866028293967247 | acc: 0.9850999712944031\n",
      "Epoch 3 | step 200 | loss: 0.01650320179760456 | acc: 0.9842999577522278\n",
      "Epoch 3 | step 300 | loss: 0.027643492445349693 | acc: 0.9817000031471252\n",
      "Epoch 3 | step 400 | loss: 0.028723658993840218 | acc: 0.9825999736785889\n",
      "Epoch 3 | step 500 | loss: 0.016832344233989716 | acc: 0.9805999994277954\n",
      "Epoch 4 | step 0 | loss: 0.006681256461888552 | acc: 0.9843999743461609\n",
      "Epoch 4 | step 100 | loss: 0.0690445825457573 | acc: 0.9801999926567078\n",
      "Epoch 4 | step 200 | loss: 0.0272844061255455 | acc: 0.9818999767303467\n",
      "Epoch 4 | step 300 | loss: 0.06707992404699326 | acc: 0.9769999980926514\n",
      "Epoch 4 | step 400 | loss: 0.020063603296875954 | acc: 0.9793999791145325\n",
      "Epoch 4 | step 500 | loss: 0.03495846688747406 | acc: 0.9822999835014343\n"
     ]
    }
   ],
   "source": [
    "loss_list = []\n",
    "acc_list = []\n",
    "for epoch in range(EPOCH):\n",
    "    for step, (data, label) in enumerate(train_loader):\n",
    "        model.train()\n",
    "\n",
    "        predict = model(data.cuda())\n",
    "        loss = loss_func(predict, label.cuda())\n",
    "\n",
    "        optim.zero_grad()\n",
    "        loss.backward()\n",
    "        optim.step()\n",
    "\n",
    "        if step % 100 == 0:\n",
    "            model.eval()\n",
    "            test_data = torch.unsqueeze(test_dataset.test_data, 1).type(torch.FloatTensor)\n",
    "            test_predict = model(test_data.cuda())\n",
    "            test_accuracy = sum(torch.argmax(test_predict, 1) == test_dataset.test_labels.cuda()) / len(test_dataset)\n",
    "            print(\"Epoch {} | step {} | loss: {} | acc: {}\".format(epoch, step, loss.data.cpu().numpy(), test_accuracy.cpu().numpy()))\n",
    "            loss_list.append(loss.data.cpu().numpy())\n",
    "            acc_list.append(test_accuracy.cpu().numpy())"
   ]
  },
  {
   "cell_type": "code",
   "execution_count": 10,
   "metadata": {},
   "outputs": [
    {
     "data": {
      "text/plain": [
       "<matplotlib.legend.Legend at 0x7ff55c6673d0>"
      ]
     },
     "execution_count": 10,
     "metadata": {},
     "output_type": "execute_result"
    },
    {
     "data": {
      "image/png": "[encoded data removed]",
      "text/plain": [
       "<Figure size 432x288 with 1 Axes>"
      ]
     },
     "metadata": {
      "needs_background": "light"
     },
     "output_type": "display_data"
    }
   ],
   "source": [
    "x = np.arange(len(loss_list))\n",
    "plt.plot(x, loss_list, 'r', label='loss')\n",
    "plt.plot(x, acc_list, 'b-', label='accuracy')\n",
    "plt.ylim((0, 2))\n",
    "plt.legend(loc='best')"
   ]
  },
  {
   "cell_type": "code",
   "execution_count": 11,
   "metadata": {},
   "outputs": [
    {
     "name": "stdout",
     "output_type": "stream",
     "text": [
      "predict: 7\n",
      "real: 7\n"
     ]
    },
    {
     "name": "stderr",
     "output_type": "stream",
     "text": [
      "/home/doublez/anaconda3/envs/deep_learning/lib/python3.9/site-packages/torchvision/datasets/mnist.py:67: UserWarning: test_data has been renamed data\n",
      "  warnings.warn(\"test_data has been renamed data\")\n",
      "/home/doublez/anaconda3/envs/deep_learning/lib/python3.9/site-packages/torchvision/datasets/mnist.py:57: UserWarning: test_labels has been renamed targets\n",
      "  warnings.warn(\"test_labels has been renamed targets\")\n"
     ]
    },
    {
     "data": {
      "image/png": "[encoded data removed]",
      "text/plain": [
       "<Figure size 432x288 with 1 Axes>"
      ]
     },
     "metadata": {
      "needs_background": "light"
     },
     "output_type": "display_data"
    }
   ],
   "source": [
    "model.eval()\n",
    "model.cpu()\n",
    "test_x, test_y = test_dataset.test_data[0].type(torch.FloatTensor), test_dataset.test_labels[0]\n",
    "plt.imshow(test_x, cmap='gray')\n",
    "predict = model(test_x.unsqueeze(0).unsqueeze(0))\n",
    "print(\"predict:\", torch.argmax(predict).numpy())\n",
    "print(\"real:\", test_y.numpy())"
   ]
  }
 ],
 "metadata": {
  "interpreter": {
   "hash": "a3b0ff572e5cd24ec265c5b4da969dd40707626c6e113422fd84bd2b9440fcfc"
  },
  "kernelspec": {
   "display_name": "Python 3.9.7 64-bit ('deep_learning': conda)",
   "name": "python3"
  },
  "language_info": {
   "codemirror_mode": {
    "name": "ipython",
    "version": 3
   },
   "file_extension": ".py",
   "mimetype": "text/x-python",
   "name": "python",
   "nbconvert_exporter": "python",
   "pygments_lexer": "ipython3",
   "version": "3.9.7"
  },
  "orig_nbformat": 4
 },
 "nbformat": 4,
 "nbformat_minor": 2
}
